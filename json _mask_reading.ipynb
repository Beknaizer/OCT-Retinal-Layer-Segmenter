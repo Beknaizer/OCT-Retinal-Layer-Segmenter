{
 "cells": [
  {
   "cell_type": "code",
   "execution_count": 270,
   "metadata": {},
   "outputs": [],
   "source": [
    "import json, os, glob\n",
    "from PIL import Image, ImageDraw\n",
    "import numpy as np\n",
    "from PIL.ImageColor import getrgb"
   ]
  },
  {
   "cell_type": "code",
   "execution_count": 271,
   "metadata": {},
   "outputs": [],
   "source": [
    "class_dict = {'NFL':13, 'GCL+IPL':5, 'INL':17, 'OPL':2,'ONL':22,'Elipsoid Zone':9,'RPE':3,'Choroid':31}"
   ]
  },
  {
   "cell_type": "code",
   "execution_count": null,
   "metadata": {},
   "outputs": [],
   "source": [
    "json_file = '/home/khamituly/Documents/Diploma work/labels_8_layer_2022-06-08-03-14-52.json'\n",
    "original_images = '/home/khamituly/Documents/Diploma work/dataset_manual/temp_health/X/'\n",
    "result_save = '/home/khamituly/Documents/Diploma work/dataset_manual/temp_health/Y_test/'"
   ]
  },
  {
   "cell_type": "code",
   "execution_count": 272,
   "metadata": {},
   "outputs": [],
   "source": [
    "all_labels = json.load(open(json_file))"
   ]
  },
  {
   "cell_type": "code",
   "execution_count": 273,
   "metadata": {},
   "outputs": [
    {
     "name": "stdout",
     "output_type": "stream",
     "text": [
      "dict_keys(['06 OS - Copy.jpeg', '108 OD - Copy.jpeg', '22 OD - Copy.jpeg', '26 OD - Copy.jpeg', '31 OD - Copy.jpeg', '33 OD - Copy.jpeg', '34 OS - Copy.jpeg', '50 OD - Copy.jpeg', '56 OS - Copy.jpeg', '64 OD - Copy.jpeg'])\n"
     ]
    }
   ],
   "source": [
    "rawlist = all_labels.keys()\n",
    "print(all_labels.keys())"
   ]
  },
  {
   "cell_type": "code",
   "execution_count": 275,
   "metadata": {},
   "outputs": [],
   "source": [
    "# def get_data(data, X,Y,L):\n",
    "def get_data(data):\n",
    "\n",
    "    X = []; Y = []; L=[] #pre-allocate lists to fill in a for loop\n",
    "    for k in data['regions']: #cycle through each polygon\n",
    "        # get the x and y points from the dictionary\n",
    "        X.append(data['regions'][k]['shape_attributes']['all_points_x'])\n",
    "        Y.append(data['regions'][k]['shape_attributes']['all_points_y'])\n",
    "        L.append(data['regions'][k]['region_attributes']['label'])\n",
    "    return Y,X,L #image coordinates are flipped relative to json coordinates"
   ]
  },
  {
   "cell_type": "code",
   "execution_count": 280,
   "metadata": {},
   "outputs": [],
   "source": [
    "def get_mask(X, Y, nx, ny, L, class_dict):\n",
    "    # get the dimensions of the image\n",
    "    mask = np.zeros((nx,ny))\n",
    "\n",
    "    for y,x,l in zip(X,Y,L):\n",
    "        # the ImageDraw.Draw().polygon function we will use to create the mask\n",
    "        # requires the x's and y's are interweaved, which is what the following\n",
    "        # one-liner does\n",
    "        polygon = np.vstack((x,y)).reshape((-1,),order='F').tolist()\n",
    "\n",
    "        # create a mask image of the right size and infill according to the polygon\n",
    "        size = (nx, ny)\n",
    "        if nx>ny:\n",
    "           x,y = y,x\n",
    "           img = Image.new(\"L\",  (nx, ny), 0)\n",
    "        elif ny>nx:\n",
    "           img = Image.new(\"L\", (ny,nx), 0)\n",
    "        else:\n",
    "           img = Image.new(\"L\", (nx, ny),  0)\n",
    "\n",
    "        ImageDraw.Draw(img).polygon(polygon, fill = 1, outline = 1)\n",
    "        # turn into a numpy array\n",
    "        m = np.flipud(np.rot90(np.array(img)))\n",
    "\n",
    "        try:\n",
    "            mask[m==1] = class_dict[l]\n",
    "        except:\n",
    "            mask[m.T==1] = class_dict[l]  \n",
    "\n",
    "         # mask[m==1] = class_dict[l]\n",
    "\n",
    "    return mask"
   ]
  },
  {
   "cell_type": "code",
   "execution_count": 282,
   "metadata": {},
   "outputs": [],
   "source": [
    "def rescale(dat,mn,mx):\n",
    "    '''\n",
    "    rescales an input dat between mn and mx\n",
    "    '''\n",
    "    m = min(dat.flatten())\n",
    "    M = max(dat.flatten())\n",
    "    return (mx-mn)*(dat-m)/(M-m)+mn"
   ]
  },
  {
   "cell_type": "code",
   "execution_count": 283,
   "metadata": {},
   "outputs": [],
   "source": [
    "for name in rawlist:\n",
    "    \n",
    "    new_path = original_images+name\n",
    "    image = Image.open(new_path)\n",
    "    nx, ny, nz = np.shape(image)\n",
    "    \n",
    "    X, Y, L = get_data(all_labels[name])\n",
    "\n",
    "    mask = get_mask(X, Y, nx, ny, L, class_dict)\n",
    "\n",
    "    mask = Image.fromarray(rescale(mask,0,255)).convert('RGB')\n",
    "    mask.save(result_save+name.replace('imagery','labels'), format='PNG')\n"
   ]
  },
  {
   "cell_type": "code",
   "execution_count": 284,
   "metadata": {},
   "outputs": [],
   "source": [
    "import cv2"
   ]
  },
  {
   "cell_type": "code",
   "execution_count": 285,
   "metadata": {},
   "outputs": [],
   "source": [
    "img = cv2.imread(result_save+'33 OD - Copy.jpeg')\n",
    "img = cv2.resize(img,(640,640), interpolation = cv2.INTER_NEAREST)"
   ]
  },
  {
   "cell_type": "code",
   "execution_count": 286,
   "metadata": {},
   "outputs": [
    {
     "data": {
      "text/plain": [
       "array([0, 1, 2, 3, 4, 5, 6, 7, 8])"
      ]
     },
     "execution_count": 286,
     "metadata": {},
     "output_type": "execute_result"
    }
   ],
   "source": [
    "from sklearn.preprocessing import LabelEncoder\n",
    "labelencoder = LabelEncoder()\n",
    "n, h, w = img.shape\n",
    "train_masks_reshaped = img.reshape(-1,1)\n",
    "train_masks_reshaped_encoded = labelencoder.fit_transform(train_masks_reshaped)\n",
    "train_masks_encoded_original_shape = train_masks_reshaped_encoded.reshape(n, h, w)\n",
    "\n",
    "np.unique(train_masks_encoded_original_shape)\n"
   ]
  },
  {
   "cell_type": "code",
   "execution_count": 287,
   "metadata": {},
   "outputs": [
    {
     "data": {
      "text/plain": [
       "array([0, 1, 2, 3, 4, 5, 6, 7, 8])"
      ]
     },
     "execution_count": 287,
     "metadata": {},
     "output_type": "execute_result"
    }
   ],
   "source": [
    "\n",
    "train_masks_input = np.expand_dims(train_masks_encoded_original_shape, axis=3)\n",
    "np.unique(train_masks_input)"
   ]
  },
  {
   "cell_type": "code",
   "execution_count": 288,
   "metadata": {},
   "outputs": [
    {
     "data": {
      "text/plain": [
       "array([  0,  16,  24,  41,  74, 106, 139, 180, 255], dtype=uint8)"
      ]
     },
     "execution_count": 288,
     "metadata": {},
     "output_type": "execute_result"
    }
   ],
   "source": [
    "np.unique(img)"
   ]
  },
  {
   "cell_type": "code",
   "execution_count": 289,
   "metadata": {},
   "outputs": [],
   "source": [
    "#Capture mask/label info as a list\n",
    "train_masks = [] \n",
    "for directory_path in glob.glob(result_save):\n",
    "    for mask_path in glob.glob(os.path.join(directory_path, \"*.jpeg\")):\n",
    "        mask = cv2.imread(mask_path, 0)       \n",
    "        mask = cv2.resize(mask, (640,640), interpolation = cv2.INTER_NEAREST)  #Otherwise ground truth changes due to interpolation\n",
    "        train_masks.append(mask)\n",
    "        \n",
    "#Convert list to array for machine learning processing          \n",
    "train_masks = np.array(train_masks)"
   ]
  },
  {
   "cell_type": "code",
   "execution_count": 290,
   "metadata": {},
   "outputs": [
    {
     "name": "stdout",
     "output_type": "stream",
     "text": [
      "[  0  16  24  41  74 106 139 180 255]   label0\n",
      "[  0  16  24  41  74 106 139 180 255]   label1\n",
      "[  0  16  24  41  74 106 139 180 255]   label2\n",
      "[  0  16  24  41  74 106 139 180 255]   label3\n",
      "[  0  16  24  41  74 106 139 180 255]   label4\n",
      "[  0  16  24  41  74 106 139 180 255]   label5\n",
      "[  0  16  24  41  74 106 139 180 255]   label6\n",
      "[  0  16  24  41  74 106 139 180 255]   label7\n",
      "[  0  16  24  41  74 106 139 180 255]   label8\n",
      "[  0  16  24  41  74 106 139 180 255]   label9\n"
     ]
    }
   ],
   "source": [
    "for i in range(10):\n",
    "    print(np.unique(train_masks[i]),'  label'+str(i))\n"
   ]
  },
  {
   "cell_type": "code",
   "execution_count": 291,
   "metadata": {},
   "outputs": [
    {
     "data": {
      "text/plain": [
       "<matplotlib.image.AxesImage at 0x7f53e499fc40>"
      ]
     },
     "execution_count": 291,
     "metadata": {},
     "output_type": "execute_result"
    },
    {
     "data": {
      "image/png": "[encoded data removed]",
      "text/plain": [
       "<Figure size 432x288 with 1 Axes>"
      ]
     },
     "metadata": {
      "needs_background": "light"
     },
     "output_type": "display_data"
    }
   ],
   "source": [
    "from matplotlib import pyplot as plt\n",
    "\n",
    "plt.imshow(train_masks[1])"
   ]
  },
  {
   "cell_type": "code",
   "execution_count": 292,
   "metadata": {},
   "outputs": [
    {
     "data": {
      "text/plain": [
       "<matplotlib.image.AxesImage at 0x7f53e494d880>"
      ]
     },
     "execution_count": 292,
     "metadata": {},
     "output_type": "execute_result"
    },
    {
     "data": {
      "image/png": "[encoded data removed]",
      "text/plain": [
       "<Figure size 432x288 with 1 Axes>"
      ]
     },
     "metadata": {
      "needs_background": "light"
     },
     "output_type": "display_data"
    }
   ],
   "source": [
    "from matplotlib import pyplot as plt\n",
    "\n",
    "plt.imshow(train_masks[3])"
   ]
  }
 ],
 "metadata": {
  "interpreter": {
   "hash": "916dbcbb3f70747c44a77c7bcd40155683ae19c65e1c03b4aa3499c5328201f1"
  },
  "kernelspec": {
   "display_name": "Python 3.8.10 64-bit",
   "language": "python",
   "name": "python3"
  },
  "language_info": {
   "codemirror_mode": {
    "name": "ipython",
    "version": 3
   },
   "file_extension": ".py",
   "mimetype": "text/x-python",
   "name": "python",
   "nbconvert_exporter": "python",
   "pygments_lexer": "ipython3",
   "version": "3.8.10"
  },
  "orig_nbformat": 4
 },
 "nbformat": 4,
 "nbformat_minor": 2
}
